{
  "cells": [
    {
      "cell_type": "markdown",
      "metadata": {
        "id": "view-in-github",
        "colab_type": "text"
      },
      "source": [
        "<a href=\"https://colab.research.google.com/github/sirbez/GitRepo/blob/master/Code/notebook/gpu_classification.ipynb\" target=\"_parent\"><img src=\"https://colab.research.google.com/assets/colab-badge.svg\" alt=\"Open In Colab\"/></a>"
      ]
    },
    {
      "cell_type": "code",
      "execution_count": 10,
      "metadata": {
        "id": "ouoXHA6cN-6F",
        "outputId": "f9180263-65ba-4445-a315-17b3f0199d46",
        "colab": {
          "base_uri": "https://localhost:8080/",
          "height": 385
        }
      },
      "outputs": [
        {
          "output_type": "error",
          "ename": "ModuleNotFoundError",
          "evalue": "No module named 'constants'",
          "traceback": [
            "\u001b[0;31m---------------------------------------------------------------------------\u001b[0m",
            "\u001b[0;31mModuleNotFoundError\u001b[0m                       Traceback (most recent call last)",
            "\u001b[0;32m<ipython-input-10-612506602>\u001b[0m in \u001b[0;36m<cell line: 0>\u001b[0;34m()\u001b[0m\n\u001b[1;32m      3\u001b[0m \u001b[0;32mimport\u001b[0m \u001b[0mos\u001b[0m\u001b[0;34m\u001b[0m\u001b[0;34m\u001b[0m\u001b[0m\n\u001b[1;32m      4\u001b[0m \u001b[0;32mfrom\u001b[0m \u001b[0mrandom\u001b[0m \u001b[0;32mimport\u001b[0m \u001b[0mshuffle\u001b[0m\u001b[0;34m\u001b[0m\u001b[0;34m\u001b[0m\u001b[0m\n\u001b[0;32m----> 5\u001b[0;31m \u001b[0;32mimport\u001b[0m \u001b[0mconstants\u001b[0m \u001b[0;32mas\u001b[0m \u001b[0mCONST\u001b[0m\u001b[0;34m\u001b[0m\u001b[0;34m\u001b[0m\u001b[0m\n\u001b[0m\u001b[1;32m      6\u001b[0m \u001b[0;32mimport\u001b[0m \u001b[0mcv2\u001b[0m\u001b[0;34m\u001b[0m\u001b[0;34m\u001b[0m\u001b[0m\n\u001b[1;32m      7\u001b[0m \u001b[0;32mimport\u001b[0m \u001b[0mpickle\u001b[0m\u001b[0;34m\u001b[0m\u001b[0;34m\u001b[0m\u001b[0m\n",
            "\u001b[0;31mModuleNotFoundError\u001b[0m: No module named 'constants'",
            "",
            "\u001b[0;31m---------------------------------------------------------------------------\u001b[0;32m\nNOTE: If your import is failing due to a missing package, you can\nmanually install dependencies using either !pip or !apt.\n\nTo view examples of installing some common dependencies, click the\n\"Open Examples\" button below.\n\u001b[0;31m---------------------------------------------------------------------------\u001b[0m\n"
          ],
          "errorDetails": {
            "actions": [
              {
                "action": "open_url",
                "actionText": "Open Examples",
                "url": "/notebooks/snippets/importing_libraries.ipynb"
              }
            ]
          }
        }
      ],
      "source": [
        "import numpy as np\n",
        "import math\n",
        "import os\n",
        "from random import shuffle\n",
        "import constants as CONST\n",
        "import cv2\n",
        "import pickle\n",
        "\n",
        "def get_size_statistics():\n",
        "    heights = []\n",
        "    widths = []\n",
        "    img_count = 0\n",
        "    DIR = CONST.TRAIN_DIR\n",
        "    for img in os.listdir(CONST.TRAIN_DIR):\n",
        "        path = os.path.join(DIR, img)\n",
        "        data = cv2.imread(path)\n",
        "        #data = np.array(Image.open(path))\n",
        "        heights.append(data.shape[0])\n",
        "        widths.append(data.shape[1])\n",
        "        img_count += 1\n",
        "    avg_height = sum(heights) / len(heights)\n",
        "    avg_width = sum(widths) / len(widths)\n",
        "    print(\"Average Height: \" + str(avg_height))\n",
        "    print(\"Max Height: \" + str(max(heights)))\n",
        "    print(\"Min Height: \" + str(min(heights)))\n",
        "    print('\\n')\n",
        "    print(\"Average Width: \" + str(avg_width))\n",
        "    print(\"Max Width: \" + str(max(widths)))\n",
        "    print(\"Min Width: \" + str(min(widths)))\n",
        "\n",
        "#get_size_statistics()\n",
        "\n",
        "\n",
        "def label_img(name):\n",
        "    word_label = name.split('.')[0]\n",
        "    label = CONST.LABEL_MAP[word_label]\n",
        "    label_arr = np.zeros(2)\n",
        "    label_arr[label] = 1\n",
        "    return label_arr\n",
        "\n",
        "\n",
        "def prep_and_load_data():\n",
        "    DIR = CONST.TRAIN_DIR\n",
        "    data = []\n",
        "    image_paths = os.listdir(DIR)\n",
        "    shuffle(image_paths)\n",
        "    count = 0\n",
        "    for img_path in image_paths:\n",
        "        label = label_img(img_path)\n",
        "        path = os.path.join(DIR, img_path)\n",
        "        image = cv2.imread(path)\n",
        "        image = cv2.resize(image, (CONST.IMG_SIZE, CONST.IMG_SIZE))\n",
        "        image = image.astype('float') / 255.0\n",
        "        #image = image.reshape(-1, CONST.IMG_SIZE, CONST.IMG_SIZE, 3)\n",
        "        data.append([image, label])\n",
        "        count += 1\n",
        "        print(count)\n",
        "        if count == CONST.DATA_SIZE:\n",
        "            break\n",
        "\n",
        "    shuffle(data)\n",
        "\n",
        "    #with open('train_data.pickle', 'wb') as train_d_file:\n",
        "    #    pickle.dump(train_data, train_d_file)\n",
        "    print(len(data))\n",
        "    print('done')\n",
        "\n",
        "    return data\n"
      ]
    },
    {
      "cell_type": "code",
      "execution_count": 6,
      "metadata": {
        "id": "qTlZeltrN-6G"
      },
      "outputs": [],
      "source": [
        "'''\n",
        "import tensorflow as tf\n",
        "import keras\n",
        "from keras.models import Sequential\n",
        "from keras.layers import Dense, Dropout, Flatten\n",
        "from keras.layers import Conv2D, MaxPooling2D\n",
        "from keras.layers. normalization import BatchNormalization\n",
        "import numpy as np\n",
        "from keras.callbacks import TensorBoard\n",
        "'''\n",
        "\n",
        "\n",
        "import tensorflow as tf\n",
        "\n",
        "from tensorflow.keras.models import Sequential\n",
        "from tensorflow.keras.layers import Dense, Dropout, Activation, Flatten, BatchNormalization\n",
        "from tensorflow.keras.layers import Conv2D, MaxPooling2D\n",
        "from tensorflow.keras.callbacks import TensorBoard"
      ]
    },
    {
      "cell_type": "code",
      "execution_count": 7,
      "metadata": {
        "id": "HEDf8s87N-6H"
      },
      "outputs": [],
      "source": [
        "import os\n"
      ]
    },
    {
      "cell_type": "code",
      "execution_count": 8,
      "metadata": {
        "id": "Ps_IZ8TLN-6H"
      },
      "outputs": [],
      "source": [
        "def get_model():\n",
        "    model = tf.keras.Sequential()#Sequential()\n",
        "    model.add(Conv2D(32, kernel_size = (3, 3), activation='relu', input_shape=(CONST.IMG_SIZE, CONST.IMG_SIZE, 3)))\n",
        "    model.add(MaxPooling2D(pool_size=(2,2)))\n",
        "    model.add(BatchNormalization())\n",
        "\n",
        "    model.add(Conv2D(64, kernel_size=(3,3), activation='relu'))\n",
        "    model.add(MaxPooling2D(pool_size=(2,2)))\n",
        "    model.add(BatchNormalization())\n",
        "\n",
        "\n",
        "    model.add(Conv2D(96, kernel_size=(3,3), activation='relu'))\n",
        "    model.add(MaxPooling2D(pool_size=(2,2)))\n",
        "    model.add(BatchNormalization())\n",
        "\n",
        "    model.add(Conv2D(96, kernel_size=(3,3), activation='relu'))\n",
        "    model.add(MaxPooling2D(pool_size=(2,2)))\n",
        "    model.add(BatchNormalization())\n",
        "    model.add(Dropout(0.2)) ##\n",
        "\n",
        "    model.add(Conv2D(64, kernel_size=(3,3), activation='relu'))\n",
        "    model.add(MaxPooling2D(pool_size=(2,2)))\n",
        "    model.add(BatchNormalization())\n",
        "    model.add(Dropout(0.2))\n",
        "\n",
        "    model.add(Flatten())\n",
        "    model.add(Dense(256, activation='relu'))\n",
        "    model.add(Dropout(0.2))\n",
        "    model.add(Dense(128, activation='relu'))\n",
        "    model.add(Dropout(0.3)) ##\n",
        "    model.add(Dense(2, activation = 'softmax'))\n",
        "\n",
        "    model.compile(loss='binary_crossentropy', optimizer='adam', metrics = ['accuracy'])\n",
        "    print('model prepared...')\n",
        "    return model\n",
        "\n",
        "\n",
        "import time\n",
        "NAME = f'32x64x96x96_d2x64_d2_F256_d2x128_d3x2_{int(time.time())}.h5'\n",
        "NAME_B = f'32x64x96x96_d2x64_d2_F256_d2x128_d3x2_{int(time.time())}'\n",
        "\n",
        "tboard_log_dir = os.path.join(\"logs\", NAME_B)\n",
        "tensorboard = TensorBoard(log_dir=tboard_log_dir)\n",
        "#model = load_model('my_model.h5')"
      ]
    },
    {
      "cell_type": "code",
      "execution_count": 9,
      "metadata": {
        "id": "w0jWMXLZN-6I",
        "outputId": "e99039af-1755-4476-8f46-a7ee3ce24bf9",
        "colab": {
          "base_uri": "https://localhost:8080/",
          "height": 211
        }
      },
      "outputs": [
        {
          "output_type": "error",
          "ename": "NameError",
          "evalue": "name 'CONST' is not defined",
          "traceback": [
            "\u001b[0;31m---------------------------------------------------------------------------\u001b[0m",
            "\u001b[0;31mNameError\u001b[0m                                 Traceback (most recent call last)",
            "\u001b[0;32m<ipython-input-9-433742353>\u001b[0m in \u001b[0;36m<cell line: 0>\u001b[0;34m()\u001b[0m\n\u001b[0;32m----> 1\u001b[0;31m \u001b[0mCONST\u001b[0m\u001b[0;34m.\u001b[0m\u001b[0mDATA_SIZE\u001b[0m \u001b[0;34m=\u001b[0m \u001b[0;36m18_000\u001b[0m\u001b[0;34m\u001b[0m\u001b[0;34m\u001b[0m\u001b[0m\n\u001b[0m\u001b[1;32m      2\u001b[0m \u001b[0mCONST\u001b[0m\u001b[0;34m.\u001b[0m\u001b[0mIMG_SIZE\u001b[0m \u001b[0;34m=\u001b[0m \u001b[0;36m110\u001b[0m\u001b[0;34m\u001b[0m\u001b[0;34m\u001b[0m\u001b[0m\n\u001b[1;32m      3\u001b[0m \u001b[0mCONST\u001b[0m\u001b[0;34m.\u001b[0m\u001b[0mSPLIT_RATIO\u001b[0m \u001b[0;34m=\u001b[0m \u001b[0;36m0.8\u001b[0m\u001b[0;34m\u001b[0m\u001b[0;34m\u001b[0m\u001b[0m\n\u001b[1;32m      4\u001b[0m \u001b[0mdata\u001b[0m \u001b[0;34m=\u001b[0m \u001b[0mnp\u001b[0m\u001b[0;34m.\u001b[0m\u001b[0marray\u001b[0m\u001b[0;34m(\u001b[0m\u001b[0mprep_and_load_data\u001b[0m\u001b[0;34m(\u001b[0m\u001b[0;34m)\u001b[0m\u001b[0;34m)\u001b[0m\u001b[0;34m\u001b[0m\u001b[0;34m\u001b[0m\u001b[0m\n\u001b[1;32m      5\u001b[0m \u001b[0mtrain_size\u001b[0m \u001b[0;34m=\u001b[0m \u001b[0mint\u001b[0m\u001b[0;34m(\u001b[0m\u001b[0mCONST\u001b[0m\u001b[0;34m.\u001b[0m\u001b[0mDATA_SIZE\u001b[0m \u001b[0;34m*\u001b[0m \u001b[0mCONST\u001b[0m\u001b[0;34m.\u001b[0m\u001b[0mSPLIT_RATIO\u001b[0m\u001b[0;34m)\u001b[0m\u001b[0;34m\u001b[0m\u001b[0;34m\u001b[0m\u001b[0m\n",
            "\u001b[0;31mNameError\u001b[0m: name 'CONST' is not defined"
          ]
        }
      ],
      "source": [
        "CONST.DATA_SIZE = 18_000\n",
        "CONST.IMG_SIZE = 110\n",
        "CONST.SPLIT_RATIO = 0.8\n",
        "data = np.array(prep_and_load_data())\n",
        "train_size = int(CONST.DATA_SIZE * CONST.SPLIT_RATIO)\n",
        "print('dats', len(data), train_size)\n",
        "\n",
        "train_data = data[:train_size]\n",
        "train_images = np.array([i[0] for i in train_data]).reshape(-1, CONST.IMG_SIZE, CONST.IMG_SIZE, 3)\n",
        "train_labels = np.array([i[1] for i in train_data])\n",
        "print('train data fetched..')\n",
        "\n",
        "test_data = data[train_size:]\n",
        "test_images = np.array([i[0] for i in test_data]).reshape(-1, CONST.IMG_SIZE, CONST.IMG_SIZE, 3)\n",
        "test_labels = np.array([i[1] for i in test_data])\n",
        "\n",
        "\n",
        "print('data fetched..')\n"
      ]
    },
    {
      "cell_type": "code",
      "execution_count": null,
      "metadata": {
        "id": "ICOBE23hN-6I"
      },
      "outputs": [],
      "source": [
        "model = get_model()\n",
        "model.save(NAME)"
      ]
    },
    {
      "cell_type": "code",
      "execution_count": null,
      "metadata": {
        "id": "f5eqLtJnN-6I"
      },
      "outputs": [],
      "source": [
        "history = model.fit(train_images, train_labels, batch_size = 50, epochs = 15, verbose = 1, validation_data=(test_images, test_labels), callbacks=[tensorboard])"
      ]
    },
    {
      "cell_type": "code",
      "execution_count": null,
      "metadata": {
        "id": "7UT9zT7DN-6J"
      },
      "outputs": [],
      "source": [
        "model.save('18_000.h5')\n"
      ]
    },
    {
      "cell_type": "code",
      "execution_count": null,
      "metadata": {
        "id": "JFjeN3XaN-6J"
      },
      "outputs": [],
      "source": [
        "import pickle"
      ]
    },
    {
      "cell_type": "code",
      "execution_count": null,
      "metadata": {
        "id": "htbsRY8uN-6J"
      },
      "outputs": [],
      "source": [
        "with open('18_000_history.pickle', 'wb') as file:\n",
        "    pickle.dump(history.history, file)"
      ]
    },
    {
      "cell_type": "code",
      "execution_count": null,
      "metadata": {
        "id": "Kie-f9zwN-6J"
      },
      "outputs": [],
      "source": [
        "fourcc = cv2.VideoWriter_fourcc(*'DIVX')\n",
        "out = cv2.VideoWriter(\"./prediction.mp4\", fourcc, 1.0, (400,400))\n",
        "\n",
        "def write_video(out, frame):\n",
        "    frame = cv2.resize(frame, (400, 400))\n",
        "    out.write(frame)\n",
        ""
      ]
    },
    {
      "cell_type": "code",
      "execution_count": null,
      "metadata": {
        "id": "U_wea1HTN-6K"
      },
      "outputs": [],
      "source": [
        "CONST.TEST_DIR = './test1'\n",
        "import copy\n",
        "def process_image(directory, img_path):\n",
        "    path = os.path.join(directory, img_path)\n",
        "    image = cv2.imread(path)\n",
        "    image_copy = copy.deepcopy(image)\n",
        "    print(image.shape)\n",
        "\n",
        "\n",
        "    image = cv2.resize(image, (CONST.IMG_SIZE, CONST.IMG_SIZE))\n",
        "    image_std = image.astype('float') / 255.0\n",
        "    return image_copy, image_std\n",
        "\n",
        "def get_testing_images():\n",
        "    test_data = []\n",
        "    image_test_data = []\n",
        "\n",
        "    DIR = CONST.TEST_DIR\n",
        "    image_paths = os.listdir(DIR)\n",
        "    image_paths = image_paths[:200]\n",
        "    count = 0\n",
        "    for img_path in image_paths:\n",
        "        image, image_std = process_image(DIR, img_path)\n",
        "\n",
        "        image_std = image_std.reshape(-1, CONST.IMG_SIZE, CONST.IMG_SIZE, 3)\n",
        "        pred = model.predict([image_std])\n",
        "        arg_max = np.argmax(pred, axis=1)\n",
        "        max_val = np.max(pred, axis=1)\n",
        "        s = val_map[arg_max[0]] + ' - ' + str(max_val[0]*100) + '%'\n",
        "        cv2.putText(image, s,\n",
        "            bottomLeftCornerOfText,\n",
        "            font,\n",
        "            fontScale,\n",
        "            fontColor,\n",
        "            lineType)\n",
        "\n",
        "        #cv2.imshow('img', image)\n",
        "        #cv2.waitKey(0)\n",
        "        #cv2.destroyAllWindows()\n",
        "        write_video(out, image)\n",
        "\n",
        "\n",
        "        test_data.append(image_std)\n",
        "        image_test_data.append(image)\n",
        "        count += 1\n",
        "        print(count)\n",
        "    out.release()\n",
        "\n",
        "    return np.array(test_data), image_test_data\n",
        "\n",
        "testing_images, image_test_data = get_testing_images()\n",
        "testing_images_scale = np.array([i for i in testing_images]).reshape(-1, CONST.IMG_SIZE, CONST.IMG_SIZE, 3)"
      ]
    },
    {
      "cell_type": "code",
      "execution_count": null,
      "metadata": {
        "id": "QqKHzVZWN-6K"
      },
      "outputs": [],
      "source": [
        "predictions = model.predict(testing_images_scale)\n",
        "arg_max = np.argmax(predictions, axis=1)\n",
        "max_val = np.max(predictions, axis=1)"
      ]
    },
    {
      "cell_type": "code",
      "execution_count": null,
      "metadata": {
        "id": "VcFeqJ0bN-6K"
      },
      "outputs": [],
      "source": [
        "val_map = {1: 'Dog', 0: 'Cat'}\n",
        "\n",
        "font                   = cv2.FONT_HERSHEY_SIMPLEX\n",
        "bottomLeftCornerOfText = (20,20)\n",
        "fontScale              = 0.5\n",
        "fontColor              = (255,255,255)\n",
        "lineType               = 2\n"
      ]
    },
    {
      "cell_type": "code",
      "execution_count": null,
      "metadata": {
        "id": "jsanyTdYN-6K"
      },
      "outputs": [],
      "source": [
        "for arg, val, img in zip(arg_max, max_val, image_test_data):\n",
        "    img = img*255\n",
        "    print(arg)\n",
        "    s = val_map[arg] + ' - ' + str(val*100) + '%'\n",
        "    cv2.putText(img, s,\n",
        "        bottomLeftCornerOfText,\n",
        "        font,\n",
        "        fontScale,\n",
        "        fontColor,\n",
        "        lineType)\n",
        "    cv2.imshow('img', img)\n",
        "    cv2.waitKey(0)\n",
        "    cv2.destroyAllWindows()"
      ]
    },
    {
      "cell_type": "code",
      "execution_count": null,
      "metadata": {
        "id": "4ZXz3IEiN-6K"
      },
      "outputs": [],
      "source": []
    }
  ],
  "metadata": {
    "kernelspec": {
      "display_name": "PythonGPU",
      "language": "python",
      "name": "pythongpu"
    },
    "language_info": {
      "codemirror_mode": {
        "name": "ipython",
        "version": 3
      },
      "file_extension": ".py",
      "mimetype": "text/x-python",
      "name": "python",
      "nbconvert_exporter": "python",
      "pygments_lexer": "ipython3",
      "version": "3.6.10"
    },
    "colab": {
      "provenance": [],
      "include_colab_link": true
    }
  },
  "nbformat": 4,
  "nbformat_minor": 0
}